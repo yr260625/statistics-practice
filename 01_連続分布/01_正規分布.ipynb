{
  "cells": [
    {
      "cell_type": "markdown",
      "metadata": {
        "colab_type": "text",
        "id": "view-in-github"
      },
      "source": [
        "<a href=\"https://colab.research.google.com/github/yukinaga/minnano_ai/blob/master/section_1/first_colab.ipynb\" target=\"_parent\"><img src=\"https://colab.research.google.com/assets/colab-badge.svg\" alt=\"Open In Colab\"/></a>\n"
      ]
    },
    {
      "cell_type": "markdown",
      "metadata": {
        "colab_type": "text",
        "id": "iBnSVC9jsMV9"
      },
      "source": [
        "## 正規分布\n"
      ]
    },
    {
      "cell_type": "markdown",
      "metadata": {},
      "source": [
        "### 概要\n",
        "\n",
        "- 平均値 $\\mu$ を中心にした左右対称の分布$ N(\\mu, \\sigma^2)$\n",
        "- 平均値と最頻値と中央値が一致\n",
        "\n",
        "### 確率密度関数\n",
        "\n",
        "$$\n",
        "  f(x) = \\frac{1}{\\sqrt{2 \\pi \\sigma^2}} exp\\Bigl[-\\frac{(x-\\mu)^2}{2\\sigma^2}\\Bigr]\n",
        "$$\n"
      ]
    },
    {
      "cell_type": "code",
      "execution_count": 3,
      "metadata": {},
      "outputs": [
        {
          "data": {
            "application/vnd.jupyter.widget-view+json": {
              "model_id": "012ec92206984cf894a08f2d634b6892",
              "version_major": 2,
              "version_minor": 0
            },
            "text/plain": [
              "interactive(children=(FloatSlider(value=0.0, description='mu', max=5.0, min=-5.0), FloatSlider(value=2.5000000…"
            ]
          },
          "metadata": {},
          "output_type": "display_data"
        }
      ],
      "source": [
        "%matplotlib inline\n",
        "import numpy as np\n",
        "import matplotlib.pyplot as plt\n",
        "from ipywidgets import interact\n",
        "\n",
        "#  X      確率変数\n",
        "#  mu0    平均値\n",
        "#  sigma  標準偏差\n",
        "def probability_density(x, mu, sigma):\n",
        "  return 1 / (np.sqrt(2 * np.pi * sigma**2)) * np.exp(-(x - mu)**2 / (2 * sigma**2))\n",
        "\n",
        "\n",
        "@interact(mu=(-5, 5, 0.1), sigma=(0.1, 5, 0.1))\n",
        "def show_graph(mu, sigma):\n",
        "  x = np.arange(-5, 5, 0.001)\n",
        "  y = probability_density(x, mu, sigma)\n",
        "  plt.plot(x,y)\n",
        "  plt.xlabel(\"x\", fontsize=12)\n",
        "  plt.ylabel(\"f\", fontsize=12)\n",
        "  plt.ylim(0)\n",
        "  plt.show()\n"
      ]
    },
    {
      "cell_type": "markdown",
      "metadata": {},
      "source": [
        "### 平均、分散\n",
        "\n",
        "$$\n",
        "  \\begin{align}\n",
        "  E[X] &= \\mu \\\\\n",
        "  V[X] &= \\sigma^2 \\\\\n",
        "  \\end{align}\n",
        "$$\n",
        "\n",
        "### 再生性\n",
        "\n",
        "$X_1, X_2$がそれぞれ、独立な正規分布に従う場合、$X_1 + X_2$ も正規分布に従う\n",
        "\n",
        "$$\n",
        "  X_1 \\sim N(\\mu_1, \\sigma_1^2),  X_2 \\sim N(\\mu_2, \\sigma_2^2) \\\\\n",
        "  \\Leftrightarrow X_1 + X_2\\sim N(\\mu_1 + \\mu_2, \\sigma_1^2 + \\sigma_2^2)\n",
        "$$\n"
      ]
    }
  ],
  "metadata": {
    "colab": {
      "authorship_tag": "ABX9TyNnsQFbysl0xicx17P7WtOh",
      "collapsed_sections": [],
      "include_colab_link": true,
      "name": "first_colab.ipynb",
      "provenance": []
    },
    "kernelspec": {
      "display_name": "Python 3",
      "name": "python3"
    },
    "language_info": {
      "codemirror_mode": {
        "name": "ipython",
        "version": 3
      },
      "file_extension": ".py",
      "mimetype": "text/x-python",
      "name": "python",
      "nbconvert_exporter": "python",
      "pygments_lexer": "ipython3",
      "version": "3.10.3"
    }
  },
  "nbformat": 4,
  "nbformat_minor": 0
}
