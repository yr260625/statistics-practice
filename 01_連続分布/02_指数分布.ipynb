{
  "cells": [
    {
      "cell_type": "markdown",
      "metadata": {
        "colab_type": "text",
        "id": "view-in-github"
      },
      "source": [
        "<a href=\"https://colab.research.google.com/github/yukinaga/minnano_ai/blob/master/section_1/first_colab.ipynb\" target=\"_parent\"><img src=\"https://colab.research.google.com/assets/colab-badge.svg\" alt=\"Open In Colab\"/></a>\n"
      ]
    },
    {
      "cell_type": "markdown",
      "metadata": {
        "colab_type": "text",
        "id": "iBnSVC9jsMV9"
      },
      "source": [
        "## 指数分布\n",
        "\n",
        "### 概要\n",
        "\n",
        "- ある期間に平均して $\\lambda$ 回発生するイベントが、次に発生するまでの時間 $X$ が従う分布 $Exp(\\lambda)$\n",
        "- イベント発生後、発生しない期間 $X$ が従う分布とも言い換えられる\n",
        "- 素粒子の寿命など\n",
        "\n",
        "### 確率分布関数\n",
        "\n",
        "$$\n",
        "  f(x) = \\lambda e^{-\\lambda x}\n",
        "$$\n"
      ]
    },
    {
      "cell_type": "code",
      "execution_count": 1,
      "metadata": {},
      "outputs": [
        {
          "data": {
            "application/vnd.jupyter.widget-view+json": {
              "model_id": "5cf5eb71a35145ca96b05c3bff678b31",
              "version_major": 2,
              "version_minor": 0
            },
            "text/plain": [
              "interactive(children=(FloatSlider(value=3.0, description='tau', max=5.0, min=1.0), Output()), _dom_classes=('w…"
            ]
          },
          "metadata": {},
          "output_type": "display_data"
        }
      ],
      "source": [
        "%matplotlib inline\n",
        "import numpy as np\n",
        "import matplotlib.pyplot as plt\n",
        "from ipywidgets import interact\n",
        "\n",
        "#  tau: 寿命(1/λ)\n",
        "def probability_density(t, tau):\n",
        "  return  1/tau * np.exp(-t/tau)\n",
        "\n",
        "\n",
        "@interact(tau=(1, 5, 0.1))\n",
        "def show_graph(tau):\n",
        "  t = np.arange(0, 10, 0.001)\n",
        "  y = probability_density(t, tau)\n",
        "  plt.plot(t,y)\n",
        "  plt.xlabel(\"t\", fontsize=12)\n",
        "  plt.ylabel(\"f\", fontsize=12)\n",
        "  plt.ylim(0)\n",
        "  plt.vlines(tau, 0, 1, color='g', linestyles='dotted')\n",
        "  plt.show()\n"
      ]
    },
    {
      "cell_type": "markdown",
      "metadata": {},
      "source": [
        "### 平均、分散\n",
        "\n",
        "$$\n",
        "  \\begin{align}\n",
        "  E[X] &= \\frac{1}{\\lambda} \\\\\n",
        "  V[X] &= \\frac{1}{\\lambda^2} \\\\\n",
        "  \\end{align}\n",
        "$$\n",
        "\n",
        "### 無記憶性\n",
        "\n",
        "ある時刻 $t_1$ にまでに発生しないイベントが、さらに $t_2$ 経過するまでに発生しない確率を考える。その確率は、ある時点から $t_2$ 経過するまでに発生しない確率に等しい。  \n",
        "(その時点で経過した時間$t_1$を考えずに、改めてその時点からの経過時間のみによる)\n",
        "\n",
        "$$\n",
        "  P(X \\geqq t_1 + t_2 | X \\geqq t_1) = P(X \\geqq t_2)\n",
        "$$\n"
      ]
    }
  ],
  "metadata": {
    "colab": {
      "authorship_tag": "ABX9TyNnsQFbysl0xicx17P7WtOh",
      "collapsed_sections": [],
      "include_colab_link": true,
      "name": "first_colab.ipynb",
      "provenance": []
    },
    "kernelspec": {
      "display_name": "Python 3",
      "name": "python3"
    },
    "language_info": {
      "codemirror_mode": {
        "name": "ipython",
        "version": 3
      },
      "file_extension": ".py",
      "mimetype": "text/x-python",
      "name": "python",
      "nbconvert_exporter": "python",
      "pygments_lexer": "ipython3",
      "version": "3.10.3"
    }
  },
  "nbformat": 4,
  "nbformat_minor": 0
}
