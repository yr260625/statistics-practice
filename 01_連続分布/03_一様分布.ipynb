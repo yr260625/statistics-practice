{
  "cells": [
    {
      "cell_type": "markdown",
      "metadata": {
        "colab_type": "text",
        "id": "view-in-github"
      },
      "source": [
        "<a href=\"https://colab.research.google.com/github/yukinaga/minnano_ai/blob/master/section_1/first_colab.ipynb\" target=\"_parent\"><img src=\"https://colab.research.google.com/assets/colab-badge.svg\" alt=\"Open In Colab\"/></a>\n"
      ]
    },
    {
      "cell_type": "markdown",
      "metadata": {
        "colab_type": "text",
        "id": "iBnSVC9jsMV9"
      },
      "source": [
        "## 指数分布\n",
        "\n",
        "### 概要\n",
        "\n",
        "- ある区間で一定の値をとり、その他の区間では 0 の値をとる分布 $U(a, b)$\n",
        "- 素粒子の寿命など\n",
        "\n",
        "### 確率密度関数\n",
        "\n",
        "$$\n",
        "  f(x) = \\frac{1}{b - a} \\quad (for\\quad a \\leq b)\n",
        "$$\n"
      ]
    },
    {
      "cell_type": "code",
      "execution_count": 6,
      "metadata": {},
      "outputs": [
        {
          "data": {
            "application/vnd.jupyter.widget-view+json": {
              "model_id": "3909ab63b5ec49579ec1d9bee1fadda8",
              "version_major": 2,
              "version_minor": 0
            },
            "text/plain": [
              "interactive(children=(FloatSlider(value=-3.0, description='a', max=-1.0, min=-5.0), FloatSlider(value=3.0, des…"
            ]
          },
          "metadata": {},
          "output_type": "display_data"
        }
      ],
      "source": [
        "%matplotlib inline\n",
        "import numpy as np\n",
        "import matplotlib.pyplot as plt\n",
        "from ipywidgets import interact\n",
        "import scipy\n",
        "\n",
        "#  min: 始点\n",
        "#  max: 終点\n",
        "def probability_density(x, min, max):\n",
        "  return scipy.stats.uniform.pdf(x, loc=min, scale=(max-min))\n",
        "\n",
        "\n",
        "@interact(a=(-5, -1, 0.1), b=(1, 5, 0.1))\n",
        "def show_graph(a, b):\n",
        "  x = np.linspace(-10,10,100)\n",
        "  y = probability_density(x, a, b)\n",
        "  plt.xlabel(\"x\", fontsize=12)\n",
        "  plt.ylabel(\"f\", fontsize=12)\n",
        "  plt.ylim(0, 1)\n",
        "  plt.plot(x,y)\n",
        "  plt.show()\n"
      ]
    },
    {
      "cell_type": "markdown",
      "metadata": {},
      "source": [
        "### 平均、分散\n",
        "\n",
        "$$\n",
        "  \\begin{align}\n",
        "  E[X] &= \\frac{a + b}{2} \\\\\n",
        "  V[X] &= \\frac{(b-a)^2}{12} \\\\\n",
        "  \\end{align}\n",
        "$$\n"
      ]
    }
  ],
  "metadata": {
    "colab": {
      "authorship_tag": "ABX9TyNnsQFbysl0xicx17P7WtOh",
      "collapsed_sections": [],
      "include_colab_link": true,
      "name": "first_colab.ipynb",
      "provenance": []
    },
    "kernelspec": {
      "display_name": "Python 3",
      "name": "python3"
    },
    "language_info": {
      "codemirror_mode": {
        "name": "ipython",
        "version": 3
      },
      "file_extension": ".py",
      "mimetype": "text/x-python",
      "name": "python",
      "nbconvert_exporter": "python",
      "pygments_lexer": "ipython3",
      "version": "3.10.3"
    }
  },
  "nbformat": 4,
  "nbformat_minor": 0
}
