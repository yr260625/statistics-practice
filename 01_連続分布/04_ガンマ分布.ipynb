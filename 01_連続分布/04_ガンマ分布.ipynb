{
  "cells": [
    {
      "cell_type": "markdown",
      "metadata": {
        "colab_type": "text",
        "id": "view-in-github"
      },
      "source": [
        "<a href=\"https://colab.research.google.com/github/yukinaga/minnano_ai/blob/master/section_1/first_colab.ipynb\" target=\"_parent\"><img src=\"https://colab.research.google.com/assets/colab-badge.svg\" alt=\"Open In Colab\"/></a>\n"
      ]
    },
    {
      "cell_type": "markdown",
      "metadata": {
        "colab_type": "text",
        "id": "iBnSVC9jsMV9"
      },
      "source": [
        "## ガンマ分布\n",
        "\n",
        "### 概要\n",
        "\n",
        "- ある期間 $b$ に平均して 1 回発生するイベントが、$a$ 回発生するまでの時間 $X$ が従う分布 $Ga(a, b)$\n",
        "- 指数分布の一般系\n",
        "\n",
        "### 確率分布関数\n",
        "\n",
        "$$\n",
        "  f(x) = \\frac{1}{\\Gamma(a)b^a}x^{a-1} e^{-x/b}\n",
        "$$\n",
        "\n",
        "なお、ここで $\\Gamma(a)$ はガンマ関数を表す\n",
        "\n",
        "$$\n",
        "  \\Gamma(t) = \\int_0^\\infty  t^{x-1} e^{-t}dt\n",
        "$$\n",
        "\n",
        "### ガンマ関数の主な性質\n",
        "\n",
        "$$\n",
        "  \\begin{align}\n",
        "  \\Gamma(1/2) &= \\sqrt{\\pi} \\\\\n",
        "  \\Gamma(n+1) &= n\\Gamma(n) \\\\\n",
        "  \\end{align}\n",
        "$$\n"
      ]
    },
    {
      "cell_type": "code",
      "execution_count": 5,
      "metadata": {},
      "outputs": [
        {
          "data": {
            "application/vnd.jupyter.widget-view+json": {
              "model_id": "43e9e2df057942c6b1a48e09fa4e1fd6",
              "version_major": 2,
              "version_minor": 0
            },
            "text/plain": [
              "interactive(children=(FloatSlider(value=3.0, description='a', max=5.0, min=1.0, step=0.01), FloatSlider(value=…"
            ]
          },
          "metadata": {},
          "output_type": "display_data"
        }
      ],
      "source": [
        "%matplotlib inline\n",
        "import numpy as np\n",
        "import matplotlib.pyplot as plt\n",
        "from ipywidgets import interact\n",
        "from scipy.special import gamma\n",
        "\n",
        "#  a: 発生回数[1]\n",
        "#  b: 発生間隔[T]\n",
        "def probability_density(x, a, b):\n",
        "  return  1/(b**a * gamma(a)) * x**a * np.exp(-x/b)\n",
        "\n",
        "\n",
        "@interact(a=(1, 5, 0.01), b=(0.01, 5, 0.01))\n",
        "def show_graph(a, b):\n",
        "  x = np.arange(0, 80, 0.001)\n",
        "  y = probability_density(x, a, b)\n",
        "  plt.plot(x,y)\n",
        "  plt.xlabel(\"x\", fontsize=12)\n",
        "  plt.ylabel(\"f\", fontsize=12)\n",
        "  plt.ylim(0)\n",
        "  plt.show()\n"
      ]
    },
    {
      "cell_type": "markdown",
      "metadata": {},
      "source": [
        "### 平均、分散\n",
        "\n",
        "$$\n",
        "  \\begin{align}\n",
        "  E[X] &= ab \\\\\n",
        "  V[X] &= ab^2 \\\\\n",
        "  \\end{align}\n",
        "$$\n",
        "\n",
        "次元解析で考えれば容易に推測可能\n",
        "\n",
        "$$\n",
        "  \\begin{align}\n",
        "  [a] &= [1] \\\\\n",
        "  [b] &= [T] \\\\\n",
        "  E[X] &= [T] &&⇒ ab \\\\\n",
        "  E[X] &= [T^2] &&⇒ ab^2\n",
        "  \\end{align}\n",
        "$$\n",
        "\n",
        "### 最頻値\n",
        "\n",
        "$$\n",
        "  \\frac{df(x)}{dx} = 0  ⇒  x = (a-1)b\n",
        "$$\n",
        "\n",
        "### 再生性\n",
        "\n",
        "$$\n",
        "  X_1 \\sim Ga(a_1, b),  X_2 \\sim Ga(a_2, b) \\\\\n",
        "  \\Leftrightarrow X_1 + X_2\\sim Ga(a_1 + a_2, b)\n",
        "$$\n"
      ]
    }
  ],
  "metadata": {
    "colab": {
      "authorship_tag": "ABX9TyNnsQFbysl0xicx17P7WtOh",
      "collapsed_sections": [],
      "include_colab_link": true,
      "name": "first_colab.ipynb",
      "provenance": []
    },
    "kernelspec": {
      "display_name": "Python 3",
      "name": "python3"
    },
    "language_info": {
      "codemirror_mode": {
        "name": "ipython",
        "version": 3
      },
      "file_extension": ".py",
      "mimetype": "text/x-python",
      "name": "python",
      "nbconvert_exporter": "python",
      "pygments_lexer": "ipython3",
      "version": "3.10.3"
    }
  },
  "nbformat": 4,
  "nbformat_minor": 0
}
