{
  "cells": [
    {
      "cell_type": "markdown",
      "metadata": {
        "colab_type": "text",
        "id": "view-in-github"
      },
      "source": [
        "<a href=\"https://colab.research.google.com/github/yukinaga/minnano_ai/blob/master/section_1/first_colab.ipynb\" target=\"_parent\"><img src=\"https://colab.research.google.com/assets/colab-badge.svg\" alt=\"Open In Colab\"/></a>\n"
      ]
    },
    {
      "cell_type": "markdown",
      "metadata": {
        "colab_type": "text",
        "id": "iBnSVC9jsMV9"
      },
      "source": [
        "## ベータ分布\n",
        "\n",
        "### 概要\n",
        "\n",
        "- 成功回数 $a-1$、失敗回数 $b-1$ が観測された事象について、成功する確率の予測値 $X$が従う分布 $B(a,b)$\n",
        "- $(a,b) = (1,1)$ の場合は、試行回数 0 と解釈できるため、一様分布 $U(0, 1)$ に一致する\n",
        "- 試行前の事前分布を一様分布。成功と失敗の 2 択で決まる試行（ベルヌーイ試行を繰り返す二項分布）を行った場合の事後分布はベータ分布になる\n",
        "\n",
        "### 確率分布関数\n",
        "\n",
        "$$\n",
        "  f(x) = \\frac{1}{B(a,b)}x^{a-1} (1-x)^{b-1}\n",
        "$$\n",
        "\n",
        "なお、ここで $B(a,b)$ はベータ関数を表す\n",
        "\n",
        "$$\n",
        "  B(a,b) = \\int_0^1  x^{a-1} (1-x)^{b-1}dx\n",
        "$$\n",
        "\n",
        "### ベータ関数の主な性質\n",
        "\n",
        "$$\n",
        "  \\begin{align}\n",
        "  \\Beta(1, 1) &= 1 \\\\\n",
        "  \\Beta(1, x) &= \\frac{1}{x} \\\\\n",
        "  \\Beta(a, b) &= \\Beta(b, a) \\\\\n",
        "  \\Beta(a, b) &= \\frac{a+b}{a}\\Beta(a+1, b) \\\\\n",
        "  \\Beta(a, b) &= \\frac{\\Gamma(a)\\Gamma(b)}{\\Gamma(a+b)} \\\\\n",
        "  \\end{align}\n",
        "$$\n"
      ]
    },
    {
      "cell_type": "code",
      "execution_count": 1,
      "metadata": {},
      "outputs": [
        {
          "data": {
            "application/vnd.jupyter.widget-view+json": {
              "model_id": "31b8681f9e34438382998a931e30e09f",
              "version_major": 2,
              "version_minor": 0
            },
            "text/plain": [
              "interactive(children=(IntSlider(value=5, description='a', max=10, min=1), IntSlider(value=5, description='b', …"
            ]
          },
          "metadata": {},
          "output_type": "display_data"
        }
      ],
      "source": [
        "%matplotlib inline\n",
        "import numpy as np\n",
        "import matplotlib.pyplot as plt\n",
        "from ipywidgets import interact\n",
        "from scipy.special import beta\n",
        "\n",
        "#  a: 成功回数\n",
        "#  b: 失敗回数\n",
        "def probability_density(x, a, b):\n",
        "  return  1/(beta(a,b)) * x**(a-1) * (1-x)**(b-1)\n",
        "\n",
        "\n",
        "@interact(a=(1, 10, 1), b=(1, 10, 1))\n",
        "def show_graph(a, b):\n",
        "  x = np.arange(0, 1, 0.001)\n",
        "  y = probability_density(x, a, b)\n",
        "  plt.plot(x,y)\n",
        "  plt.xlabel(\"x\", fontsize=12)\n",
        "  plt.ylabel(\"f\", fontsize=12)\n",
        "  plt.ylim(0)\n",
        "  plt.show()\n"
      ]
    },
    {
      "cell_type": "markdown",
      "metadata": {},
      "source": [
        "### 平均、分散\n",
        "\n",
        "$$\n",
        "  \\begin{align}\n",
        "  E[X] &= \\frac{a}{a+b} \\\\\n",
        "  V[X] &= \\frac{ab}{(a+b^2)(a+b+1)} \\\\\n",
        "  \\end{align}\n",
        "$$\n",
        "\n",
        "### 最頻値\n",
        "\n",
        "$$\n",
        "  \\frac{df(x)}{dx} = 0  ⇒  x = \\frac{a-1}{a+b-2}\n",
        "$$\n"
      ]
    }
  ],
  "metadata": {
    "colab": {
      "authorship_tag": "ABX9TyNnsQFbysl0xicx17P7WtOh",
      "collapsed_sections": [],
      "include_colab_link": true,
      "name": "first_colab.ipynb",
      "provenance": []
    },
    "kernelspec": {
      "display_name": "Python 3",
      "name": "python3"
    },
    "language_info": {
      "codemirror_mode": {
        "name": "ipython",
        "version": 3
      },
      "file_extension": ".py",
      "mimetype": "text/x-python",
      "name": "python",
      "nbconvert_exporter": "python",
      "pygments_lexer": "ipython3",
      "version": "3.10.3"
    }
  },
  "nbformat": 4,
  "nbformat_minor": 0
}
