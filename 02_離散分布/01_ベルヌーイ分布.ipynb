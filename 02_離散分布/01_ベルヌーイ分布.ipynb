{
  "cells": [
    {
      "cell_type": "markdown",
      "metadata": {
        "colab_type": "text",
        "id": "view-in-github"
      },
      "source": [
        "<a href=\"https://colab.research.google.com/github/yukinaga/minnano_ai/blob/master/section_1/first_colab.ipynb\" target=\"_parent\"><img src=\"https://colab.research.google.com/assets/colab-badge.svg\" alt=\"Open In Colab\"/></a>\n"
      ]
    },
    {
      "cell_type": "markdown",
      "metadata": {
        "colab_type": "text",
        "id": "iBnSVC9jsMV9"
      },
      "source": [
        "## ベルヌーイ分布\n"
      ]
    },
    {
      "cell_type": "markdown",
      "metadata": {},
      "source": [
        "### 概要\n",
        "\n",
        "- 成功 $(X=1)$ または失敗 $(X=0)$ の二択のみ発生するベルヌーイ試行において、$X$が従う分布 $Ber(p)$\n",
        "- ここで、 $p$は成功確率とする\n",
        "- ベルヌーイ試行を繰り返し $N$ 回行い、それぞれの事象が独立であれば 成功回数は $Bin(N,p)$ の二項分布に従う\n",
        "\n",
        "### 確率質量関数\n",
        "\n",
        "$$\n",
        "  f(x) = p^x(1-p)^{1-x} \\quad (x=0,1)\n",
        "$$\n"
      ]
    },
    {
      "cell_type": "code",
      "execution_count": 19,
      "metadata": {},
      "outputs": [
        {
          "data": {
            "application/vnd.jupyter.widget-view+json": {
              "model_id": "db9bf04b13324dde991c5480a5a3bcbe",
              "version_major": 2,
              "version_minor": 0
            },
            "text/plain": [
              "interactive(children=(FloatSlider(value=0.0, description='p', max=1.0), Output()), _dom_classes=('widget-inter…"
            ]
          },
          "metadata": {},
          "output_type": "display_data"
        }
      ],
      "source": [
        "import numpy as np\n",
        "import matplotlib.pyplot as plt\n",
        "from scipy.stats import bernoulli\n",
        "from ipywidgets import interact\n",
        "\n",
        "\n",
        "# 確率質量関数\n",
        "# x: 成功回数\n",
        "# p: 発生確率\n",
        "def probability_mass_function(x, p):\n",
        "    return bernoulli.pmf(x, p)\n",
        "\n",
        "\n",
        "@interact(p=(0, 1, 0.1))\n",
        "def show_pmf(p):\n",
        "    x = range(-1, 2)\n",
        "    y = probability_mass_function(x, p)\n",
        "    plt.xticks(ticks=[0, 1])\n",
        "    plt.ylim(0, 1)\n",
        "    plt.bar(x, y)"
      ]
    },
    {
      "cell_type": "markdown",
      "metadata": {},
      "source": [
        "### 平均、分散\n",
        "\n",
        "$$\n",
        "  \\begin{align}\n",
        "  E[X] &= p \\\\\n",
        "  V[X] &= p(1-p) \\\\\n",
        "  \\end{align}\n",
        "$$\n",
        "\n",
        "### 二項定理との関係について\n",
        "\n",
        "ベルヌーイ試行を N 回繰り返し行い、その成功回数 $X$ は二項分布 $Bin(N,p)$ に従う。\n",
        "ベルヌーイ分布のモーメント母関数を使用して証明できる。\n",
        "\n",
        "ベルヌーイ分布のモーメント母関数は\n",
        "\n",
        "$$\n",
        "  \\begin{align}\n",
        "  M_X(t) &= E[e^{tX}] \\\\\n",
        "         &= pe^{tx} + (1-p) \\\\\n",
        "  M_{X_{1}+X_{2}+....X_{3}}(t) &= M_{X_{1}}(t)....M_{X_{n}}(t) \\\\\n",
        "           &= \\{pe^{tx} + (1-p)\\}^n \\\\\n",
        "  \\end{align}\n",
        "$$\n",
        "\n",
        "この結果は二項分布のモーメント母関数と一致する\n"
      ]
    }
  ],
  "metadata": {
    "colab": {
      "authorship_tag": "ABX9TyNnsQFbysl0xicx17P7WtOh",
      "collapsed_sections": [],
      "include_colab_link": true,
      "name": "first_colab.ipynb",
      "provenance": []
    },
    "kernelspec": {
      "display_name": "Python 3",
      "name": "python3"
    },
    "language_info": {
      "codemirror_mode": {
        "name": "ipython",
        "version": 3
      },
      "file_extension": ".py",
      "mimetype": "text/x-python",
      "name": "python",
      "nbconvert_exporter": "python",
      "pygments_lexer": "ipython3",
      "version": "3.10.3"
    }
  },
  "nbformat": 4,
  "nbformat_minor": 0
}
