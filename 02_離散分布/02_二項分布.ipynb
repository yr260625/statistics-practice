{
  "cells": [
    {
      "cell_type": "markdown",
      "metadata": {
        "colab_type": "text",
        "id": "view-in-github"
      },
      "source": [
        "<a href=\"https://colab.research.google.com/github/yukinaga/minnano_ai/blob/master/section_1/first_colab.ipynb\" target=\"_parent\"><img src=\"https://colab.research.google.com/assets/colab-badge.svg\" alt=\"Open In Colab\"/></a>\n"
      ]
    },
    {
      "cell_type": "markdown",
      "metadata": {
        "colab_type": "text",
        "id": "iBnSVC9jsMV9"
      },
      "source": [
        "## 二項分布\n"
      ]
    },
    {
      "cell_type": "markdown",
      "metadata": {},
      "source": [
        "### 概要\n",
        "\n",
        "- ベルヌーイ試行 $Ber(p)$ を $n$ 回行った場合における成功回数 $X$ が従う分布 $Bin(n,p)$\n",
        "\n",
        "### 確率質量関数\n",
        "\n",
        "$$\n",
        "  f(x) = {}_n \\mathrm{ C }_x p^x (1-p)^{n-k}\n",
        "$$\n"
      ]
    },
    {
      "cell_type": "code",
      "execution_count": 2,
      "metadata": {},
      "outputs": [
        {
          "data": {
            "application/vnd.jupyter.widget-view+json": {
              "model_id": "142d058847174e7091178662be0b15b9",
              "version_major": 2,
              "version_minor": 0
            },
            "text/plain": [
              "interactive(children=(IntSlider(value=50, description='n', min=1), FloatSlider(value=0.5, description='p', max…"
            ]
          },
          "metadata": {},
          "output_type": "display_data"
        }
      ],
      "source": [
        "import numpy as np\n",
        "import matplotlib.pyplot as plt\n",
        "from scipy.stats import binom\n",
        "from ipywidgets import interact\n",
        "\n",
        "\n",
        "# 確率質量関数\n",
        "# x: 成功回数\n",
        "# n: 試行回数\n",
        "# p: 成功確率\n",
        "def probability_mass_function(x, n, p):\n",
        "    return binom(n, p).pmf(x)\n",
        "\n",
        "\n",
        "@interact(n=(1, 100, 1), p=(0.01, 0.99, 0.01))\n",
        "def show_pmf(n, p):\n",
        "    x = range(100)\n",
        "    y = probability_mass_function(x, n, p)\n",
        "    plt.ylim(0, 1)\n",
        "    plt.bar(x, y)"
      ]
    },
    {
      "cell_type": "markdown",
      "metadata": {},
      "source": [
        "### 平均、分散\n",
        "\n",
        "$$\n",
        "  \\begin{align}\n",
        "  E[X] &= np \\\\\n",
        "  V[X] &= np(1-p) \\\\\n",
        "  \\end{align}\n",
        "$$\n",
        "\n",
        "### 再生性\n",
        "\n",
        "$X_1, X_2$がそれぞれ成功確率が同じ二項分布に従い、互いに独立な場合、$X_1 + X_2$ も二項分布に従う\n",
        "\n",
        "$$\n",
        "  X_1 \\sim Bin(n,p),  X_2 \\sim Bin(m,p) \\\\\n",
        "  \\Leftrightarrow X_1 + X_2\\sim Bin(n+m,p)\n",
        "$$\n"
      ]
    }
  ],
  "metadata": {
    "colab": {
      "authorship_tag": "ABX9TyNnsQFbysl0xicx17P7WtOh",
      "collapsed_sections": [],
      "include_colab_link": true,
      "name": "first_colab.ipynb",
      "provenance": []
    },
    "kernelspec": {
      "display_name": "Python 3",
      "name": "python3"
    },
    "language_info": {
      "codemirror_mode": {
        "name": "ipython",
        "version": 3
      },
      "file_extension": ".py",
      "mimetype": "text/x-python",
      "name": "python",
      "nbconvert_exporter": "python",
      "pygments_lexer": "ipython3",
      "version": "3.10.3"
    }
  },
  "nbformat": 4,
  "nbformat_minor": 0
}
