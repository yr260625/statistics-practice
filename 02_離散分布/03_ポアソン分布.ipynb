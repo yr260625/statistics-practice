{
  "cells": [
    {
      "cell_type": "markdown",
      "metadata": {},
      "source": [
        "<a href=\"https://colab.research.google.com/github/yukinaga/minnano_ai/blob/master/section_1/first_colab.ipynb\" target=\"_parent\"><img src=\"https://colab.research.google.com/assets/colab-badge.svg\" alt=\"Open In Colab\"/></a>\n"
      ]
    },
    {
      "cell_type": "markdown",
      "metadata": {},
      "source": [
        "## ポアソン分布\n"
      ]
    },
    {
      "cell_type": "markdown",
      "metadata": {},
      "source": [
        "### 概要\n",
        "\n",
        "- 発生頻度の少ない事象において、単位時間内に発生する回数 $X$ が従う分布 $Po(\\lambda)$\n",
        "- 平均発生回数を $\\lambda$ とする\n",
        "- １日に受信するメール数、１年間に発生する地震回数など\n",
        "- 二項分布において、試行回数 $n$ が十分に大きく発生確率 $p$ が小さい場合、ポアソン分布 $Po(np)$ に近づく。\n",
        "\n",
        "### 確率質量関数\n",
        "\n",
        "$$\n",
        "  f(x) = \\frac{\\lambda^x e^{-\\lambda}}{x!}\n",
        "$$\n"
      ]
    },
    {
      "cell_type": "code",
      "execution_count": 7,
      "metadata": {},
      "outputs": [
        {
          "data": {
            "application/vnd.jupyter.widget-view+json": {
              "model_id": "1d0a7240902243cdb9978f2968f10118",
              "version_major": 2,
              "version_minor": 0
            },
            "text/plain": [
              "interactive(children=(IntSlider(value=10, description='lambda_', max=20), Output()), _dom_classes=('widget-int…"
            ]
          },
          "metadata": {},
          "output_type": "display_data"
        }
      ],
      "source": [
        "import numpy as np\n",
        "import matplotlib.pyplot as plt\n",
        "from scipy.stats import poisson\n",
        "from ipywidgets import interact\n",
        "\n",
        "\n",
        "# 確率質量関数\n",
        "# x: 発生回数\n",
        "# lambda_: 平均発生回数\n",
        "def probability_mass_function(x, lambda_):\n",
        "    return poisson.pmf(x, lambda_)\n",
        "\n",
        "\n",
        "@interact(lambda_=(0, 20, 1))\n",
        "def show_pmf(lambda_):\n",
        "    x = range(100)\n",
        "    y = probability_mass_function(x, lambda_)\n",
        "    plt.ylim(0, 0.5)\n",
        "    plt.bar(x, y)"
      ]
    },
    {
      "cell_type": "markdown",
      "metadata": {},
      "source": [
        "### 平均、分散\n",
        "\n",
        "$$\n",
        "  \\begin{align}\n",
        "  E[X] &= \\lambda \\\\\n",
        "  V[X] &= \\lambda \\\\\n",
        "  \\end{align}\n",
        "$$\n",
        "\n",
        "### 再生性\n",
        "\n",
        "$X_1, X_2$がそれぞれポアソン分布に従い、互いに独立な場合、$X_1 + X_2$ も二項分布に従う\n",
        "\n",
        "$$\n",
        "  X_1 \\sim Po(\\lambda_1),  X_2 \\sim Po(\\lambda_2) \\\\\n",
        "  \\Leftrightarrow X_1 + X_2\\sim Po(\\lambda_1 + \\lambda_2)\n",
        "$$\n"
      ]
    },
    {
      "cell_type": "markdown",
      "metadata": {},
      "source": [
        "### 二項分布からの近似\n",
        "\n",
        "試行回数 $n$ が十分に大きく発生確率 $p$ が小さい場合、ポアソン分布 $Po(np)$ に近づく。\n",
        "$np = \\lambda$ とすると、\n",
        "\n",
        "$$\n",
        "  \\begin{align}\n",
        "  f(x) &=\\displaystyle \\lim_{n \\to \\infty}\\frac{n!}{x!(n-x)!} p^x (1-p)^{n-x} \\\\\n",
        "       &=\\displaystyle \\lim_{n \\to \\infty}\\frac{n(n-1)...(n-x+1)}{x!} p^x (1-p)^{n-x} \\\\\n",
        "       &\\simeq \\frac{(np)^x}{x!}(1-p)^{n} \\\\\n",
        "       &\\simeq \\frac{\\lambda^x}{x!}\\left(1-\\frac{\\lambda}{n}\\right)^{n} \\\\\n",
        "       &\\simeq \\frac{\\lambda^x}{x!}e^{-\\lambda} \\\\\n",
        "  \\end{align}\n",
        "$$\n",
        "\n",
        "すなわち\n",
        "\n",
        "$$\n",
        " Bin(n,p) \\xrightarrow{試行回数を極限} Po(\\lambda)\n",
        "$$\n"
      ]
    },
    {
      "cell_type": "markdown",
      "metadata": {},
      "source": [
        "### 指数分布との関係\n",
        "\n",
        "時間差 $t$ で$\\lambda$ 回発生するイベントを考える。単位時間の発生回数 $X$ は $Po(\\lambda t)$ に従う。  \n",
        "$t$ 経過後に次の１回が発生する確率(時間差$t$ の間に発生しない確率)は、\n",
        "\n",
        "$$\n",
        "f(1) = 1-e^{-\\lambda t} \\equiv g(t)\n",
        "$$\n",
        "\n",
        "微小時間 $dt$ における確率密度は、\n",
        "\n",
        "$$\n",
        "\\frac{dg(t)}{dt} = \\lambda e^{-\\lambda t}\n",
        "$$\n",
        "\n",
        "これは指数分布 $Exp(\\lambda)$ の確率密度関数に一致する。すなわち\n",
        "\n",
        "$$\n",
        " Po(\\lambda t) \\xrightarrow{時間を連続化} Exp(\\lambda)\n",
        "$$\n"
      ]
    },
    {
      "cell_type": "markdown",
      "metadata": {},
      "source": [
        "### 正規分布との関係\n",
        "\n",
        "$\\displaystyle \\lim_{\\lambda \\to \\infty}Po(\\lambda) = N(\\lambda, \\lambda)$ を示す。\n",
        "\n",
        "ポアソン分布のモーメント母関数は\n",
        "\n",
        "$$\n",
        "M_{X}(t) = exp[\\lambda e^{\\lambda} - \\lambda]\n",
        "$$\n",
        "\n",
        "$X = \\sqrt{\\lambda}Z + \\lambda$ のように標準化すると、\n",
        "\n",
        "$$\n",
        "  \\begin{align}\n",
        "   M_{X}(t) &= \\displaystyle \\lim_{\\lambda \\to \\infty} M_{\\sqrt{\\lambda}Z + \\lambda}(t)\n",
        "             = M_{\\sqrt{\\lambda}Z}(t) M_{\\lambda}(t) \\\\\n",
        "            &= \\displaystyle \\lim_{\\lambda \\to \\infty} exp[\\lambda e^{t/\\sqrt{\\lambda}} - \\lambda]\\cdot exp[-\\sqrt{\\lambda} t] \\\\\n",
        "            &\\simeq exp[\\lambda (1 + t/\\sqrt{\\lambda} + t^2/2\\lambda) - \\lambda]\\cdot exp[-\\sqrt{\\lambda} t] \\\\\n",
        "            &= e^{t^2/2}\n",
        "  \\end{align}\n",
        "$$\n",
        "\n",
        "標準正規分布のモーメント母関数に一致する。\n"
      ]
    }
  ],
  "metadata": {
    "colab": {
      "authorship_tag": "ABX9TyNnsQFbysl0xicx17P7WtOh",
      "collapsed_sections": [],
      "include_colab_link": true,
      "name": "first_colab.ipynb",
      "provenance": []
    },
    "kernelspec": {
      "display_name": "Python 3",
      "name": "python3"
    },
    "language_info": {
      "codemirror_mode": {
        "name": "ipython",
        "version": 3
      },
      "file_extension": ".py",
      "mimetype": "text/x-python",
      "name": "python",
      "nbconvert_exporter": "python",
      "pygments_lexer": "ipython3",
      "version": "3.10.3"
    }
  },
  "nbformat": 4,
  "nbformat_minor": 0
}
