{
  "cells": [
    {
      "cell_type": "markdown",
      "metadata": {},
      "source": [
        "<a href=\"https://colab.research.google.com/github/yukinaga/minnano_ai/blob/master/section_1/first_colab.ipynb\" target=\"_parent\"><img src=\"https://colab.research.google.com/assets/colab-badge.svg\" alt=\"Open In Colab\"/></a>\n"
      ]
    },
    {
      "cell_type": "markdown",
      "metadata": {},
      "source": [
        "## 幾何分布\n"
      ]
    },
    {
      "cell_type": "markdown",
      "metadata": {},
      "source": [
        "### 概要\n",
        "\n",
        "- ベルヌーイ試行 $Ber(p)$ を繰り返し行った場合において、初めて成功するまでの失敗回数 $X$ が従う分布 $Geo(p)$\n",
        "\n",
        "### 確率質量関数\n",
        "\n",
        "$$\n",
        "  f(x) = p(1-p)^x\n",
        "$$\n"
      ]
    },
    {
      "cell_type": "code",
      "execution_count": 6,
      "metadata": {},
      "outputs": [
        {
          "data": {
            "application/vnd.jupyter.widget-view+json": {
              "model_id": "2f1e4f82ff1941e98885722a619e9f14",
              "version_major": 2,
              "version_minor": 0
            },
            "text/plain": [
              "interactive(children=(FloatSlider(value=0.0, description='p', max=1.0), Output()), _dom_classes=('widget-inter…"
            ]
          },
          "metadata": {},
          "output_type": "display_data"
        }
      ],
      "source": [
        "import numpy as np\n",
        "import matplotlib.pyplot as plt\n",
        "from scipy.stats import geom\n",
        "from ipywidgets import interact\n",
        "\n",
        "\n",
        "# 確率質量関数\n",
        "# x: 試行回数\n",
        "# p: 成功確率\n",
        "def probability_mass_function(x, p):\n",
        "    return geom.pmf(x, p)\n",
        "\n",
        "\n",
        "@interact(p=(0, 1, 0.1))\n",
        "def show_pmf(p):\n",
        "    x = range(0, 50)\n",
        "    y = probability_mass_function(x, p)\n",
        "    plt.bar(x, y)"
      ]
    },
    {
      "cell_type": "markdown",
      "metadata": {},
      "source": [
        "### 平均、分散\n",
        "\n",
        "$$\n",
        "  \\begin{align}\n",
        "  E[X] &= \\frac{1-p}{p} \\\\\n",
        "  V[X] &= \\frac{1-p}{p^2} \\\\\n",
        "  \\end{align}\n",
        "$$\n",
        "\n",
        "### 無記憶性\n",
        "\n",
        "指数分布と同様に無記憶性を持つ。すなわち、ある事象が発生する確率は、発生前の情報の影響を受けない。  \n",
        "$n_1$ 回失敗した条件の下で、さらに $n_2$ 回失敗したとする。ベイズの定理により以下の式が成立する。\n",
        "\n",
        "$$\n",
        "  f(x \\ge n_1 + n_2 | x \\ge n_1 ) = \\frac{f(x \\ge n_1)f(x \\ge n_2)}{f(x \\ge n_1)} = f(x \\ge n_2)\n",
        "$$\n"
      ]
    }
  ],
  "metadata": {
    "colab": {
      "authorship_tag": "ABX9TyNnsQFbysl0xicx17P7WtOh",
      "collapsed_sections": [],
      "include_colab_link": true,
      "name": "first_colab.ipynb",
      "provenance": []
    },
    "kernelspec": {
      "display_name": "Python 3",
      "name": "python3"
    },
    "language_info": {
      "codemirror_mode": {
        "name": "ipython",
        "version": 3
      },
      "file_extension": ".py",
      "mimetype": "text/x-python",
      "name": "python",
      "nbconvert_exporter": "python",
      "pygments_lexer": "ipython3",
      "version": "3.10.3"
    }
  },
  "nbformat": 4,
  "nbformat_minor": 0
}
