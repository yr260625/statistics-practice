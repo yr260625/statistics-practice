{
  "cells": [
    {
      "cell_type": "markdown",
      "metadata": {
        "colab_type": "text",
        "id": "view-in-github"
      },
      "source": [
        "<a href=\"https://colab.research.google.com/github/yukinaga/minnano_ai/blob/master/section_1/first_colab.ipynb\" target=\"_parent\"><img src=\"https://colab.research.google.com/assets/colab-badge.svg\" alt=\"Open In Colab\"/></a>\n"
      ]
    },
    {
      "cell_type": "markdown",
      "metadata": {
        "colab_type": "text",
        "id": "iBnSVC9jsMV9"
      },
      "source": [
        "## 負の二項分布\n"
      ]
    },
    {
      "cell_type": "markdown",
      "metadata": {},
      "source": [
        "### 概要\n",
        "\n",
        "- ベルヌーイ試行 $Ber(p)$ を $r$ 回成功するまでに行った場合における失敗回数 $X$ が従う分布 $NB(r,p)$\n",
        "- $NB(1,p)$ は $Geo(p)$ と等しい\n",
        "\n",
        "### 確率密度関数\n",
        "\n",
        "$$\n",
        "  f(x) = {}_{r+x+1} \\mathrm{ C }_x p^r (1-p)^{x}\n",
        "$$\n"
      ]
    },
    {
      "cell_type": "code",
      "execution_count": 1,
      "metadata": {},
      "outputs": [
        {
          "data": {
            "application/vnd.jupyter.widget-view+json": {
              "model_id": "4da6e5e90a124e649c87bf639f146612",
              "version_major": 2,
              "version_minor": 0
            },
            "text/plain": [
              "interactive(children=(IntSlider(value=5, description='r', max=10, min=1), FloatSlider(value=0.5, description='…"
            ]
          },
          "metadata": {},
          "output_type": "display_data"
        }
      ],
      "source": [
        "%matplotlib inline\n",
        "import numpy as np\n",
        "import matplotlib.pyplot as plt\n",
        "from scipy.stats import nbinom\n",
        "from ipywidgets import interact\n",
        "\n",
        "# x: 試行回数\n",
        "# N: 母集団\n",
        "# M: 成功集団\n",
        "# n: 抽出数\n",
        "def probability_mass_function(x, r, p):\n",
        "  return nbinom.pmf(x, r, p)\n",
        "\n",
        "\n",
        "@interact(r=(1, 10, 1), p=(0.1, 1, 0.1))\n",
        "def show_graph(r, p):\n",
        "    x = range(0, 50)\n",
        "    y = probability_mass_function(x, r, p)\n",
        "    plt.bar(x, y)\n"
      ]
    },
    {
      "cell_type": "markdown",
      "metadata": {},
      "source": [
        "### 平均、分散\n",
        "\n",
        "$$\n",
        "  \\begin{align}\n",
        "  E[X] &= \\frac{r(1-p)}{p}\\\\\n",
        "  V[X] &= \\frac{r(1-p)}{p^2} \\\\\n",
        "  \\end{align}\n",
        "$$\n",
        "\n",
        "### 再生性\n",
        "\n",
        "$X_1, X_2$がそれぞれ、独立な負の二項分布に従う場合、$X_1 + X_2$ も負の二項分布に従う。\n",
        "\n",
        "$$\n",
        "  X_1 \\sim NB(r_1,p),  X_2 \\sim NB(r_2,p) \\\\\n",
        "  \\Leftrightarrow X_1 + X_2\\sim NB(r_1+r_2,p)\n",
        "$$\n"
      ]
    }
  ],
  "metadata": {
    "colab": {
      "authorship_tag": "ABX9TyNnsQFbysl0xicx17P7WtOh",
      "collapsed_sections": [],
      "include_colab_link": true,
      "name": "first_colab.ipynb",
      "provenance": []
    },
    "kernelspec": {
      "display_name": "Python 3",
      "name": "python3"
    },
    "language_info": {
      "codemirror_mode": {
        "name": "ipython",
        "version": 3
      },
      "file_extension": ".py",
      "mimetype": "text/x-python",
      "name": "python",
      "nbconvert_exporter": "python",
      "pygments_lexer": "ipython3",
      "version": "3.10.3"
    }
  },
  "nbformat": 4,
  "nbformat_minor": 0
}
