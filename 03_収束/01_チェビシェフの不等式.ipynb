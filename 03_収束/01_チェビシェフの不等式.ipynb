{
  "cells": [
    {
      "cell_type": "markdown",
      "metadata": {
        "colab_type": "text",
        "id": "view-in-github"
      },
      "source": [
        "<a href=\"https://colab.research.google.com/github/yukinaga/minnano_ai/blob/master/section_1/first_colab.ipynb\" target=\"_parent\"><img src=\"https://colab.research.google.com/assets/colab-badge.svg\" alt=\"Open In Colab\"/></a>\n"
      ]
    },
    {
      "cell_type": "markdown",
      "metadata": {},
      "source": [
        "## チェビシェフの不等式\n",
        "\n",
        "### 概収束、確率収束\n",
        "\n",
        "確率変数の列 $\\{X_n\\}$ がある確率変数 $Y$ に**概収束**するとは、以下のことを満たす。\n",
        "\n",
        "$$\n",
        "  P\\left(\\displaystyle \\lim_{n \\to \\infty} X_n = Y\\right) = 1\n",
        "$$\n",
        "\n",
        "概収束することを証明するのは困難なため、代わりに確率収束を用いることが多い。  \n",
        "確率変数の列 $\\{X_n\\}$ がある確率変数 $Y$ に**確率収束**するとは、以下のことを満たす。\n",
        "\n",
        "$$\n",
        "  \\displaystyle \\lim_{n \\to \\infty} P\\left( |X_n-Y| \\gt \\epsilon \\right) = 0\n",
        "$$\n"
      ]
    },
    {
      "cell_type": "markdown",
      "metadata": {},
      "source": [
        "### チェビシェフの不等式\n",
        "\n",
        "連続分布の場合を考える。（離散分布の場合も同様に証明可能）  \n",
        "確率密度関数 $f(x)$ に従う確率変数 $X$ の期待値が、任意の正の整数 $c$ に対して以下の関係式が成立する\n",
        "\n",
        "$$\n",
        "  \\begin{align}\n",
        "  E(X \\ge c) &= \\int_c^{\\infty} xf(x) dx \\ge \\int_0^{\\infty} cf(x) dx = cP(X \\ge c) \\\\\n",
        "  P(X \\ge c) &\\le \\frac{E[X]}{c}\n",
        "  \\end{align}\n",
        "$$\n",
        "\n",
        "すなわち、$X \\ge c$ となる確率は、$X$ の期待値の $1/c$ 倍以下に抑えられる。（マルコフの不等式）  \n",
        "ここで、$X=(Y-\\mu)^2$ つまり偏差二乗の期待値に対して、マルコフの不等式を適用すると、\n",
        "\n",
        "$$\n",
        "  \\begin{align}\n",
        "  &P(|Y-\\mu|^2 \\ge c) \\le \\frac{E[|Y-\\mu|^2]}{c} = \\frac{\\sigma_y^2}{c} \\equiv \\frac{1}{a^2} \\\\\n",
        "  &P\\left[|Y-\\mu|^2 \\ge (a\\sigma_y)^2\\right] \\le \\frac{1}{a^2} \\\\\n",
        "  \\end{align}\n",
        "$$\n",
        "\n",
        "すなわち、偏差二乗が $(a\\sigma_y)^2$ よりも大きくなる確率は、$1/a^2$ 以下に抑えられる。（チェビシェフの不等式）  \n",
        "この不等式により、平均二乗収束する確率変数列は確率収束することが分かる。\n",
        "\n",
        "$$\n",
        "  \\begin{align}\n",
        "  \\displaystyle &\\lim_{n \\to \\infty} E(|X_n-Y|) = 0 \\\\\n",
        "  \\Rightarrow \\displaystyle &\\lim_{n \\to \\infty} P\\left( |X_n-Y| \\gt \\epsilon \\right) = 0\n",
        "  \\end{align}\n",
        "$$\n"
      ]
    }
  ],
  "metadata": {
    "colab": {
      "authorship_tag": "ABX9TyNnsQFbysl0xicx17P7WtOh",
      "collapsed_sections": [],
      "include_colab_link": true,
      "name": "first_colab.ipynb",
      "provenance": []
    },
    "kernelspec": {
      "display_name": "Python 3",
      "name": "python3"
    },
    "language_info": {
      "codemirror_mode": {
        "name": "ipython",
        "version": 3
      },
      "file_extension": ".py",
      "mimetype": "text/x-python",
      "name": "python",
      "nbconvert_exporter": "python",
      "pygments_lexer": "ipython3",
      "version": "3.10.3"
    }
  },
  "nbformat": 4,
  "nbformat_minor": 0
}
