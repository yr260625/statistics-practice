{
  "cells": [
    {
      "cell_type": "markdown",
      "metadata": {
        "colab_type": "text",
        "id": "view-in-github"
      },
      "source": [
        "<a href=\"https://colab.research.google.com/github/yukinaga/minnano_ai/blob/master/section_1/first_colab.ipynb\" target=\"_parent\"><img src=\"https://colab.research.google.com/assets/colab-badge.svg\" alt=\"Open In Colab\"/></a>\n"
      ]
    },
    {
      "cell_type": "markdown",
      "metadata": {},
      "source": [
        "## 中心極限定理\n",
        "\n",
        "### 概要\n",
        "\n",
        "期待値 $\\mu$、分散 $\\sigma^2$ の任意の確率分布に従う母集団から $n$ 個を無作為復元抽出したときの標本平均 $\\overline{X_n}$ の分布は、$n$ が十分大きい時には正規分布 $N(\\mu,\\sigma^2/n)$ に収束する。\n",
        "すなわち、どのような母集団でもランダムサンプリングした値の平均は正規分布になる。\n",
        "\n",
        "$$\n",
        "  \\begin{align}\n",
        "  \\sqrt{n}(\\overline{X_n}-\\mu) \\rightarrow N(0, \\mu^2)\n",
        "  \\end{align}\n",
        "$$\n"
      ]
    },
    {
      "cell_type": "markdown",
      "metadata": {},
      "source": [
        "### 例 1）サイコロの出目（離散一様分布）\n"
      ]
    },
    {
      "cell_type": "code",
      "execution_count": 5,
      "metadata": {},
      "outputs": [
        {
          "data": {
            "application/vnd.jupyter.widget-view+json": {
              "model_id": "80c36d31854a435280592631672433d9",
              "version_major": 2,
              "version_minor": 0
            },
            "text/plain": [
              "interactive(children=(IntSlider(value=25, description='n', max=50, min=1), Output()), _dom_classes=('widget-in…"
            ]
          },
          "metadata": {},
          "output_type": "display_data"
        }
      ],
      "source": [
        "%matplotlib inline\n",
        "import numpy as np\n",
        "import matplotlib.pyplot as plt\n",
        "from ipywidgets import interact\n",
        "from scipy.stats import stats\n",
        "\n",
        "# サイコロの出目を返却\n",
        "# n: 試行回数\n",
        "def throw_dice(n):\n",
        "    rng = np.random.default_rng()\n",
        "    return rng.integers(1, 6, size=n, endpoint=True)\n",
        "\n",
        "\n",
        "# サイコロの出目一覧の標本平均を算出\n",
        "# n: 試行回数\n",
        "def mean_sample(n):\n",
        "    dice_results = throw_dice(n)\n",
        "    return np.mean(dice_results)\n",
        "\n",
        "\n",
        "# グラフ表示\n",
        "@interact(n=(1, 50, 1))\n",
        "def show_graph(n):\n",
        "    y = []\n",
        "    for _ in range(0, 10000):\n",
        "        y.append(mean_sample(n))\n",
        "    plt.hist(y, bins=50)"
      ]
    },
    {
      "cell_type": "markdown",
      "metadata": {},
      "source": [
        "### 例 2）区間内で周期性を持つ確率密度関数（連続分布）\n"
      ]
    },
    {
      "cell_type": "code",
      "execution_count": 7,
      "metadata": {},
      "outputs": [
        {
          "data": {
            "image/png": "[encoded data removed]",
            "text/plain": [
              "<Figure size 640x480 with 1 Axes>"
            ]
          },
          "metadata": {},
          "output_type": "display_data"
        }
      ],
      "source": [
        "%matplotlib inline\n",
        "import numpy as np\n",
        "import matplotlib.pyplot as plt\n",
        "from ipywidgets import interact\n",
        "from scipy.stats import rv_continuous\n",
        "\n",
        "class gaussian(rv_continuous):\n",
        "    def _pdf(self, x):\n",
        "        normalize_factor = 2 / np.pi\n",
        "        return normalize_factor * np.sin(x) ** 2 if (x >= 0 and x <= np.pi) else 0\n",
        "\n",
        "my_distribution = gaussian(name=\"my_distribution\", a=0.0)\n",
        "\n",
        "\n",
        "# 定義した分布からサンプリング抽出\n",
        "# n: サンプル数\n",
        "def make_sample(n):\n",
        "    return my_distribution.rvs(size=n)\n",
        "\n",
        "\n",
        "# 抽出したサンプリングを算術平均\n",
        "# n: サンプル数\n",
        "def mean_sample(n):\n",
        "    dice_results = make_sample(n)\n",
        "    return np.mean(dice_results)\n",
        "\n",
        "\n",
        "# グラフ表示\n",
        "def show_graph(n):\n",
        "    y = []\n",
        "    for _ in range(0, 100):\n",
        "        y.append(mean_sample(n))\n",
        "    plt.hist(y, bins=50)\n",
        "\n",
        "show_graph(100)"
      ]
    }
  ],
  "metadata": {
    "colab": {
      "authorship_tag": "ABX9TyNnsQFbysl0xicx17P7WtOh",
      "collapsed_sections": [],
      "include_colab_link": true,
      "name": "first_colab.ipynb",
      "provenance": []
    },
    "kernelspec": {
      "display_name": "Python 3",
      "name": "python3"
    },
    "language_info": {
      "codemirror_mode": {
        "name": "ipython",
        "version": 3
      },
      "file_extension": ".py",
      "mimetype": "text/x-python",
      "name": "python",
      "nbconvert_exporter": "python",
      "pygments_lexer": "ipython3",
      "version": "3.10.3"
    }
  },
  "nbformat": 4,
  "nbformat_minor": 0
}
